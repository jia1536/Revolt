{
  "cells": [
    {
      "cell_type": "markdown",
      "id": "db4ab3c9",
      "metadata": {
        "id": "db4ab3c9"
      },
      "source": [
        "## Setup"
      ]
    },
    {
      "cell_type": "code",
      "execution_count": null,
      "id": "oIElP2fZt9DY",
      "metadata": {
        "colab": {
          "base_uri": "https://localhost:8080/"
        },
        "id": "oIElP2fZt9DY",
        "outputId": "1948faca-3b34-481e-e32c-bb7f7f8f37a9"
      },
      "outputs": [
        {
          "output_type": "stream",
          "name": "stdout",
          "text": [
            "Mounted at /content/drive\n"
          ]
        }
      ],
      "source": [
        "from google.colab import drive\n",
        "drive.mount('/content/drive')"
      ]
    },
    {
      "cell_type": "code",
      "execution_count": null,
      "id": "e558f4e4",
      "metadata": {
        "id": "e558f4e4"
      },
      "outputs": [],
      "source": [
        "import tensorflow as tf\n",
        "from tensorflow import keras\n",
        "\n",
        "import matplotlib.pyplot as plt\n",
        "import numpy as np\n",
        "\n",
        "import os"
      ]
    },
    {
      "cell_type": "code",
      "execution_count": null,
      "id": "6bf8ff9c",
      "metadata": {
        "id": "6bf8ff9c"
      },
      "outputs": [],
      "source": [
        "image_size = 224\n",
        "target_size = (image_size, image_size)\n",
        "input_shape = (image_size, image_size, 3)\n",
        "\n",
        "batch_size = 32\n",
        "epochs = 25"
      ]
    },
    {
      "cell_type": "markdown",
      "id": "6100d1c8",
      "metadata": {
        "id": "6100d1c8"
      },
      "source": [
        "## Get data\n",
        "\n",
        "In order to make the most of our few training examples, we will \"augment\" them via a number of random transformations, so that our model would never see twice the exact same picture. This helps prevent overfitting and helps the model generalize better.\n",
        "\n",
        "In TensorFlow this can be done via the `tf.keras.preprocessing.image.ImageDataGenerator` class. This class allows you to:\n",
        "\n",
        "- configure random transformations and normalization operations to be done on your image data during training\n",
        "- instantiate generators of augmented image batches (and their labels) via `.flow(data, labels)` or `.flow_from_directory(directory)`. These generators can then be used with the `tf.keras` model methods that accept data generators as inputs, `fit`, `evaluate` and `predict`."
      ]
    },
    {
      "cell_type": "code",
      "execution_count": null,
      "id": "483df90c",
      "metadata": {
        "id": "483df90c"
      },
      "outputs": [],
      "source": [
        "base_dir = \"/content/drive/MyDrive/Colab Notebooks/Datasets\"\n",
        "train_dir = os.path.join(base_dir,\"train\")\n",
        "test_dir = os.path.join(base_dir,\"valid\")"
      ]
    },
    {
      "cell_type": "markdown",
      "id": "0e29290f",
      "metadata": {
        "id": "0e29290f"
      },
      "source": [
        "# Identify Plant Diseases\n",
        "\n",
        "We use the PlantVillage dataset [1] by Hughes et al. consists of about 87,000 healthy and unhealthy leaf images divided into 38 categories by species and disease. Here we provide a subset of our experiments on working with this data. We also end up transfer learning from MobileNet and use the weights from pre-training on ImageNet.\n",
        "\n",
        "* ![PlantVillage Dataset Samples](https://i.imgur.com/Zcxdrlc.png)\n",
        "Figure 1. PlantVillage Dataset Samples\n",
        "\n",
        "## Classes\n",
        "\n",
        "The following 38 classes are availaible in the dataset\n",
        "\n",
        "- `Apple___Apple_scab`\n",
        "- `Apple___Black_rot`\n",
        "- `Apple___Cedar_apple_rust`\n",
        "- `Apple___healthy`\n",
        "- `Blueberry___healthy`\n",
        "- `Cherry_(including_sour)___Powdery_mildew`\n",
        "- `Cherry_(including_sour)___healthy`\n",
        "- `Corn_(maize)___Cercospora_leaf_spot Gray_leaf_spot`\n",
        "- `Corn_(maize)___Common_rust_`\n",
        "- `Corn_(maize)___Northern_Leaf_Blight`\n",
        "- `Corn_(maize)___healthy', 'Grape___Black_rot`\n",
        "- `Grape___Leaf_blight_(Isariopsis_Leaf_Spot)`\n",
        "- `Grape___healthy`\n",
        "- `Orange___Haunglongbing_(Citrus_greening)`\n",
        "- `Peach___Bacterial_spot`\n",
        "- `Peach___healthy`\n",
        "- `Pepper,_bell___Bacterial_spot`\n",
        "- `Pepper,_bell___healthy`\n",
        "- `Potato___Early_blight`\n",
        "- `Potato___Late_blight`\n",
        "- `Potato___healthy`\n",
        "- `Raspberry___healthy`\n",
        "- `Soybean___healthy`\n",
        "- `Squash___Powdery_mildew`\n",
        "- `Strawberry___Leaf_scorch`\n",
        "- `Strawberry___healthy`\n",
        "- `Tomato___Bacterial_spot`\n",
        "- `Tomato___Late_blight`\n",
        "- `Tomato___Leaf_Mold`\n",
        "- `Tomato___Septoria_leaf_spot`\n",
        "- `Tomato___Spider_mites Two-spotted_spider_mite`\n",
        "- `Tomato___Target_Spot`\n",
        "- `Tomato___Tomato_Yellow_Leaf_Curl_Virus`\n",
        "- `Tomato___Tomato_mosaic_virus`\n",
        "- `Tomato___healthy`\n",
        "\n",
        "## References\n",
        "\n",
        "[1] Hughes, David P., and Marcel Salathe. “An Open Access Repository of Images on Plant Health to Enable the Development of Mobile Disease Diagnostics.” ArXiv:1511.08060 [Cs], Apr. 2016. arXiv.org, http://arxiv.org/abs/1511.08060.\n",
        "\n",
        "[2] Howard, Andrew G., et al. “MobileNets: Efficient Convolutional Neural Networks for Mobile Vision Applications.” ArXiv:1704.04861 [Cs], Apr. 2017. arXiv.org, http://arxiv.org/abs/1704.04861.\n"
      ]
    },
    {
      "cell_type": "markdown",
      "id": "d2a24b10",
      "metadata": {
        "id": "d2a24b10"
      },
      "source": [
        "We make the following augmentations to the images:\n",
        "\n",
        "- `width_shift` and `height_shift` are ranges (as a fraction of total width or height) within which to randomly translate pictures vertically or horizontally\n",
        "- `rescale` is a value by which we will multiply the data before any other processing. Our original images consist in RGB coefficients in the 0-255, but such values would be too high for our models to process (given a typical learning rate), so we target values between 0 and 1 instead by scaling with a 1/255. factor.\n",
        "- `shear_range` is for randomly applying shearing transformations\n",
        "- `zoom_range` is for randomly zooming inside pictures\n",
        "- `fill_mode` is the strategy used for filling in newly created pixels, which can appear after a rotation or a width/height shift."
      ]
    },
    {
      "cell_type": "code",
      "execution_count": null,
      "id": "46a278ec",
      "metadata": {
        "id": "46a278ec"
      },
      "outputs": [],
      "source": [
        "train_datagen = keras.preprocessing.image.ImageDataGenerator(rescale = 1/255.0,\n",
        "                                                             shear_range = 0.2,\n",
        "                                                             zoom_range = 0.2,\n",
        "                                                             width_shift_range = 0.2,\n",
        "                                                             height_shift_range = 0.2,\n",
        "                                                             fill_mode=\"nearest\")\n",
        "\n",
        "test_datagen = keras.preprocessing.image.ImageDataGenerator(rescale = 1/255.0)"
      ]
    },
    {
      "cell_type": "markdown",
      "id": "2e6ce2e3",
      "metadata": {
        "id": "2e6ce2e3"
      },
      "source": [
        "Let's prepare our data. We will use `.flow_from_directory()` to generate batches of image data (and their labels) directly from our images in their respective folders."
      ]
    },
    {
      "cell_type": "code",
      "execution_count": null,
      "id": "f40656d6",
      "metadata": {
        "colab": {
          "base_uri": "https://localhost:8080/"
        },
        "id": "f40656d6",
        "outputId": "b64a75ec-4172-417f-dec3-69b6f425b2f9"
      },
      "outputs": [
        {
          "output_type": "stream",
          "name": "stdout",
          "text": [
            "Found 43420 images belonging to 38 classes.\n",
            "Found 17600 images belonging to 38 classes.\n"
          ]
        }
      ],
      "source": [
        "train_data = train_datagen.flow_from_directory(train_dir,\n",
        "                                               target_size = (image_size, image_size),\n",
        "                                               batch_size = batch_size,\n",
        "                                               class_mode = \"categorical\")\n",
        "\n",
        "test_data = test_datagen.flow_from_directory(test_dir,\n",
        "                                             target_size = (image_size, image_size),\n",
        "                                             batch_size = batch_size,\n",
        "                                             class_mode = \"categorical\")"
      ]
    },
    {
      "cell_type": "markdown",
      "id": "f16b1fca",
      "metadata": {
        "id": "f16b1fca"
      },
      "source": [
        "## Create a classes index file\n",
        "\n",
        "We also want to know which class corresponds to which species and disease so we also create a `json` file which shows corresponding labels and class indices."
      ]
    },
    {
      "cell_type": "code",
      "execution_count": null,
      "id": "481b3766",
      "metadata": {
        "colab": {
          "base_uri": "https://localhost:8080/"
        },
        "id": "481b3766",
        "outputId": "035052f0-dadb-49ac-fc35-7faf9148d908"
      },
      "outputs": [
        {
          "output_type": "stream",
          "name": "stdout",
          "text": [
            "{'Apple___Apple_scab': 0, 'Apple___Black_rot': 1, 'Apple___Cedar_apple_rust': 2, 'Apple___healthy': 3, 'Blueberry___healthy': 4, 'Cherry_(including_sour)___Powdery_mildew': 5, 'Cherry_(including_sour)___healthy': 6, 'Corn_(maize)___Cercospora_leaf_spot Gray_leaf_spot': 7, 'Corn_(maize)___Common_rust_': 8, 'Corn_(maize)___Northern_Leaf_Blight': 9, 'Corn_(maize)___healthy': 10, 'Grape___Black_rot': 11, 'Grape___Esca_(Black_Measles)': 12, 'Grape___Leaf_blight_(Isariopsis_Leaf_Spot)': 13, 'Grape___healthy': 14, 'Orange___Haunglongbing_(Citrus_greening)': 15, 'Peach___Bacterial_spot': 16, 'Peach___healthy': 17, 'Pepper,_bell___Bacterial_spot': 18, 'Pepper,_bell___healthy': 19, 'Potato___Early_blight': 20, 'Potato___Late_blight': 21, 'Potato___healthy': 22, 'Raspberry___healthy': 23, 'Soybean___healthy': 24, 'Squash___Powdery_mildew': 25, 'Strawberry___Leaf_scorch': 26, 'Strawberry___healthy': 27, 'Tomato___Bacterial_spot': 28, 'Tomato___Early_blight': 29, 'Tomato___Late_blight': 30, 'Tomato___Leaf_Mold': 31, 'Tomato___Septoria_leaf_spot': 32, 'Tomato___Spider_mites Two-spotted_spider_mite': 33, 'Tomato___Target_Spot': 34, 'Tomato___Tomato_Yellow_Leaf_Curl_Virus': 35, 'Tomato___Tomato_mosaic_virus': 36, 'Tomato___healthy': 37}\n"
          ]
        }
      ],
      "source": [
        "categories = list(train_data.class_indices.keys())\n",
        "print(train_data.class_indices)"
      ]
    },
    {
      "cell_type": "code",
      "execution_count": null,
      "id": "f3e056be",
      "metadata": {
        "colab": {
          "base_uri": "https://localhost:8080/",
          "height": 34
        },
        "id": "f3e056be",
        "outputId": "252573e4-c1a6-4c27-8305-22c7b0ff1a01"
      },
      "outputs": [
        {
          "output_type": "execute_result",
          "data": {
            "text/plain": [
              "/content/class_indices.json"
            ],
            "text/html": [
              "<a href='class_indices.json' target='_blank'>class_indices.json</a><br>"
            ]
          },
          "metadata": {},
          "execution_count": 8
        }
      ],
      "source": [
        "import json\n",
        "with open('class_indices.json','w') as f:\n",
        "  json.dump(train_data.class_indices, f)\n",
        "\n",
        "from IPython.display import FileLink\n",
        "FileLink(r'class_indices.json')"
      ]
    },
    {
      "cell_type": "markdown",
      "id": "d9333466",
      "metadata": {
        "id": "d9333466"
      },
      "source": [
        "## Training\n",
        "\n",
        "We first get the base MobileNet model without including the top layers since we want to use it for 38 classes and us the pre-trained weights for ImageNet."
      ]
    },
    {
      "cell_type": "code",
      "execution_count": null,
      "id": "d915e531",
      "metadata": {
        "colab": {
          "base_uri": "https://localhost:8080/"
        },
        "id": "d915e531",
        "outputId": "693c95bc-5c8e-40c3-e1ab-9e475a0cb8f1"
      },
      "outputs": [
        {
          "output_type": "stream",
          "name": "stdout",
          "text": [
            "Downloading data from https://storage.googleapis.com/tensorflow/keras-applications/mobilenet/mobilenet_1_0_224_tf_no_top.h5\n",
            "\u001b[1m17225924/17225924\u001b[0m \u001b[32m━━━━━━━━━━━━━━━━━━━━\u001b[0m\u001b[37m\u001b[0m \u001b[1m0s\u001b[0m 0us/step\n"
          ]
        }
      ],
      "source": [
        "base_model = tf.keras.applications.MobileNet(weights = \"imagenet\",\n",
        "                                             include_top = False,\n",
        "                                             input_shape = input_shape)\n",
        "\n",
        "base_model.trainable = False"
      ]
    },
    {
      "cell_type": "markdown",
      "id": "48f30bac",
      "metadata": {
        "id": "48f30bac"
      },
      "source": [
        "We now create a small upstream model on top of the MobileNet using the functional API"
      ]
    },
    {
      "cell_type": "code",
      "execution_count": null,
      "id": "433319b7",
      "metadata": {
        "id": "433319b7"
      },
      "outputs": [],
      "source": [
        "inputs = keras.Input(shape = input_shape)\n",
        "\n",
        "x = base_model(inputs, training = False)\n",
        "x = tf.keras.layers.GlobalAveragePooling2D()(x)\n",
        "x = tf.keras.layers.Dropout(0.2)(x)\n",
        "x = tf.keras.layers.Dense(len(categories),\n",
        "                          activation=\"softmax\")(x)\n",
        "\n",
        "model = keras.Model(inputs = inputs,\n",
        "                    outputs = x,\n",
        "                    name=\"LeafDisease_MobileNet\")"
      ]
    },
    {
      "cell_type": "markdown",
      "id": "ff5d6e1c",
      "metadata": {
        "id": "ff5d6e1c"
      },
      "source": [
        "In our multiple experiments we found out Adam optimizer to work really well with it's default learning rate, $\\beta_1$, $\\beta_2$ and $\\epsilon$ values"
      ]
    },
    {
      "cell_type": "code",
      "execution_count": null,
      "id": "afeb41ff",
      "metadata": {
        "id": "afeb41ff"
      },
      "outputs": [],
      "source": [
        "optimizer = tf.keras.optimizers.Adam()\n",
        "\n",
        "model.compile(optimizer = optimizer,\n",
        "              loss = tf.keras.losses.CategoricalCrossentropy(from_logits = True),\n",
        "              metrics=[keras.metrics.CategoricalAccuracy(),\n",
        "                       'accuracy'])"
      ]
    },
    {
      "cell_type": "code",
      "execution_count": null,
      "id": "6a2dd8a5",
      "metadata": {
        "colab": {
          "base_uri": "https://localhost:8080/"
        },
        "id": "6a2dd8a5",
        "outputId": "4f3ca287-bddd-43ff-8ffd-9a73f258c704"
      },
      "outputs": [
        {
          "metadata": {
            "tags": null
          },
          "name": "stderr",
          "output_type": "stream",
          "text": [
            "/usr/local/lib/python3.11/dist-packages/keras/src/trainers/data_adapters/py_dataset_adapter.py:121: UserWarning: Your `PyDataset` class should call `super().__init__(**kwargs)` in its constructor. `**kwargs` can include `workers`, `use_multiprocessing`, `max_queue_size`. Do not pass these arguments to `fit()`, as they will be ignored.\n",
            "  self._warn_if_super_not_called()\n"
          ]
        },
        {
          "metadata": {
            "tags": null
          },
          "name": "stdout",
          "output_type": "stream",
          "text": [
            "Epoch 1/25\n"
          ]
        },
        {
          "metadata": {
            "tags": null
          },
          "name": "stderr",
          "output_type": "stream",
          "text": [
            "/usr/local/lib/python3.11/dist-packages/keras/src/backend/tensorflow/nn.py:666: UserWarning: \"`categorical_crossentropy` received `from_logits=True`, but the `output` argument was produced by a Softmax activation and thus does not represent logits. Was this intended?\n",
            "  output, from_logits = _get_logits(\n"
          ]
        },
        {
          "metadata": {
            "tags": null
          },
          "name": "stdout",
          "output_type": "stream",
          "text": [
            "\u001b[1m150/150\u001b[0m \u001b[32m━━━━━━━━━━━━━━━━━━━━\u001b[0m\u001b[37m\u001b[0m \u001b[1m2384s\u001b[0m 16s/step - accuracy: 0.3102 - categorical_accuracy: 0.3102 - loss: 2.5198 - val_accuracy: 0.4897 - val_categorical_accuracy: 0.4897 - val_loss: 4.2850\n",
            "Epoch 2/25\n",
            "\u001b[1m150/150\u001b[0m \u001b[32m━━━━━━━━━━━━━━━━━━━━\u001b[0m\u001b[37m\u001b[0m \u001b[1m1926s\u001b[0m 13s/step - accuracy: 0.7713 - categorical_accuracy: 0.7713 - loss: 0.7912 - val_accuracy: 0.5406 - val_categorical_accuracy: 0.5406 - val_loss: 4.2987\n",
            "Epoch 3/25\n",
            "\u001b[1m150/150\u001b[0m \u001b[32m━━━━━━━━━━━━━━━━━━━━\u001b[0m\u001b[37m\u001b[0m \u001b[1m1616s\u001b[0m 11s/step - accuracy: 0.8184 - categorical_accuracy: 0.8184 - loss: 0.5975 - val_accuracy: 0.5747 - val_categorical_accuracy: 0.5747 - val_loss: 4.2067\n",
            "Epoch 4/25\n",
            "\u001b[1m150/150\u001b[0m \u001b[32m━━━━━━━━━━━━━━━━━━━━\u001b[0m\u001b[37m\u001b[0m \u001b[1m1390s\u001b[0m 9s/step - accuracy: 0.8466 - categorical_accuracy: 0.8466 - loss: 0.4829 - val_accuracy: 0.5484 - val_categorical_accuracy: 0.5484 - val_loss: 4.4716\n",
            "Epoch 5/25\n",
            "\u001b[1m150/150\u001b[0m \u001b[32m━━━━━━━━━━━━━━━━━━━━\u001b[0m\u001b[37m\u001b[0m \u001b[1m1269s\u001b[0m 9s/step - accuracy: 0.8818 - categorical_accuracy: 0.8818 - loss: 0.3993 - val_accuracy: 0.5756 - val_categorical_accuracy: 0.5756 - val_loss: 4.3879\n",
            "Epoch 6/25\n",
            "\u001b[1m150/150\u001b[0m \u001b[32m━━━━━━━━━━━━━━━━━━━━\u001b[0m\u001b[37m\u001b[0m \u001b[1m1020s\u001b[0m 7s/step - accuracy: 0.8714 - categorical_accuracy: 0.8714 - loss: 0.4009 - val_accuracy: 0.5766 - val_categorical_accuracy: 0.5766 - val_loss: 4.5270\n",
            "Epoch 7/25\n",
            "\u001b[1m150/150\u001b[0m \u001b[32m━━━━━━━━━━━━━━━━━━━━\u001b[0m\u001b[37m\u001b[0m \u001b[1m731s\u001b[0m 5s/step - accuracy: 0.8925 - categorical_accuracy: 0.8925 - loss: 0.3383 - val_accuracy: 0.5925 - val_categorical_accuracy: 0.5925 - val_loss: 4.4830\n",
            "Epoch 8/25\n",
            "\u001b[1m150/150\u001b[0m \u001b[32m━━━━━━━━━━━━━━━━━━━━\u001b[0m\u001b[37m\u001b[0m \u001b[1m642s\u001b[0m 4s/step - accuracy: 0.8941 - categorical_accuracy: 0.8941 - loss: 0.3421 - val_accuracy: 0.5663 - val_categorical_accuracy: 0.5663 - val_loss: 4.8438\n",
            "Epoch 9/25\n",
            "\u001b[1m150/150\u001b[0m \u001b[32m━━━━━━━━━━━━━━━━━━━━\u001b[0m\u001b[37m\u001b[0m \u001b[1m1269s\u001b[0m 9s/step - accuracy: 0.8979 - categorical_accuracy: 0.8979 - loss: 0.3176 - val_accuracy: 0.5919 - val_categorical_accuracy: 0.5919 - val_loss: 4.4917\n",
            "Epoch 10/25\n",
            "\u001b[1m  7/150\u001b[0m \u001b[37m━━━━━━━━━━━━━━━━━━━━\u001b[0m \u001b[1m3:08\u001b[0m 1s/step - accuracy: 0.9227 - categorical_accuracy: 0.9227 - loss: 0.2949"
          ]
        },
        {
          "metadata": {
            "tags": null
          },
          "name": "stderr",
          "output_type": "stream",
          "text": [
            "/usr/local/lib/python3.11/dist-packages/keras/src/trainers/epoch_iterator.py:107: UserWarning: Your input ran out of data; interrupting training. Make sure that your dataset or generator can generate at least `steps_per_epoch * epochs` batches. You may need to use the `.repeat()` function when building your dataset.\n",
            "  self._interrupted_warning()\n"
          ]
        },
        {
          "output_type": "stream",
          "name": "stdout",
          "text": [
            "\b\b\b\b\b\b\b\b\b\b\b\b\b\b\b\b\b\b\b\b\b\b\b\b\b\b\b\b\b\b\b\b\b\b\b\b\b\b\b\b\b\b\b\b\b\b\b\b\b\b\b\b\b\b\b\b\b\b\b\b\b\b\b\b\b\b\b\b\b\b\b\b\b\b\b\b\b\b\b\b\b\b\b\b\b\b\b\b\b\b\b\b\b\b\b\b\b\b\b\b\b\b\b\b\b\b\r\u001b[1m150/150\u001b[0m \u001b[32m━━━━━━━━━━━━━━━━━━━━\u001b[0m\u001b[37m\u001b[0m \u001b[1m208s\u001b[0m 1s/step - accuracy: 0.9113 - categorical_accuracy: 0.9113 - loss: 0.3048 - val_accuracy: 0.5856 - val_categorical_accuracy: 0.5856 - val_loss: 4.6905\n",
            "Epoch 11/25\n",
            "\u001b[1m150/150\u001b[0m \u001b[32m━━━━━━━━━━━━━━━━━━━━\u001b[0m\u001b[37m\u001b[0m \u001b[1m781s\u001b[0m 5s/step - accuracy: 0.8964 - categorical_accuracy: 0.8964 - loss: 0.3203 - val_accuracy: 0.5972 - val_categorical_accuracy: 0.5972 - val_loss: 4.6713\n",
            "Epoch 12/25\n",
            "\u001b[1m150/150\u001b[0m \u001b[32m━━━━━━━━━━━━━━━━━━━━\u001b[0m\u001b[37m\u001b[0m \u001b[1m742s\u001b[0m 5s/step - accuracy: 0.8888 - categorical_accuracy: 0.8888 - loss: 0.3207 - val_accuracy: 0.5809 - val_categorical_accuracy: 0.5809 - val_loss: 4.8041\n",
            "Epoch 13/25\n",
            "\u001b[1m150/150\u001b[0m \u001b[32m━━━━━━━━━━━━━━━━━━━━\u001b[0m\u001b[37m\u001b[0m \u001b[1m678s\u001b[0m 5s/step - accuracy: 0.9060 - categorical_accuracy: 0.9060 - loss: 0.2884 - val_accuracy: 0.5831 - val_categorical_accuracy: 0.5831 - val_loss: 4.8831\n",
            "Epoch 14/25\n",
            "\u001b[1m150/150\u001b[0m \u001b[32m━━━━━━━━━━━━━━━━━━━━\u001b[0m\u001b[37m\u001b[0m \u001b[1m624s\u001b[0m 4s/step - accuracy: 0.9094 - categorical_accuracy: 0.9094 - loss: 0.2695 - val_accuracy: 0.5934 - val_categorical_accuracy: 0.5934 - val_loss: 4.9867\n",
            "Epoch 15/25\n",
            "\u001b[1m150/150\u001b[0m \u001b[32m━━━━━━━━━━━━━━━━━━━━\u001b[0m\u001b[37m\u001b[0m \u001b[1m562s\u001b[0m 4s/step - accuracy: 0.9146 - categorical_accuracy: 0.9146 - loss: 0.2534 - val_accuracy: 0.5609 - val_categorical_accuracy: 0.5609 - val_loss: 5.2222\n",
            "Epoch 16/25\n",
            "\u001b[1m150/150\u001b[0m \u001b[32m━━━━━━━━━━━━━━━━━━━━\u001b[0m\u001b[37m\u001b[0m \u001b[1m532s\u001b[0m 4s/step - accuracy: 0.9157 - categorical_accuracy: 0.9157 - loss: 0.2626 - val_accuracy: 0.6016 - val_categorical_accuracy: 0.6016 - val_loss: 4.8186\n",
            "Epoch 17/25\n",
            "\u001b[1m150/150\u001b[0m \u001b[32m━━━━━━━━━━━━━━━━━━━━\u001b[0m\u001b[37m\u001b[0m \u001b[1m454s\u001b[0m 3s/step - accuracy: 0.9225 - categorical_accuracy: 0.9225 - loss: 0.2384 - val_accuracy: 0.5903 - val_categorical_accuracy: 0.5903 - val_loss: 5.0303\n",
            "Epoch 18/25\n",
            "\u001b[1m150/150\u001b[0m \u001b[32m━━━━━━━━━━━━━━━━━━━━\u001b[0m\u001b[37m\u001b[0m \u001b[1m487s\u001b[0m 3s/step - accuracy: 0.9137 - categorical_accuracy: 0.9137 - loss: 0.2621 - val_accuracy: 0.5791 - val_categorical_accuracy: 0.5791 - val_loss: 5.2005\n",
            "Epoch 19/25\n",
            "\u001b[1m150/150\u001b[0m \u001b[32m━━━━━━━━━━━━━━━━━━━━\u001b[0m\u001b[37m\u001b[0m \u001b[1m413s\u001b[0m 3s/step - accuracy: 0.9134 - categorical_accuracy: 0.9134 - loss: 0.2553 - val_accuracy: 0.5672 - val_categorical_accuracy: 0.5672 - val_loss: 5.4307\n",
            "Epoch 20/25\n",
            "\u001b[1m150/150\u001b[0m \u001b[32m━━━━━━━━━━━━━━━━━━━━\u001b[0m\u001b[37m\u001b[0m \u001b[1m199s\u001b[0m 1s/step - accuracy: 0.9334 - categorical_accuracy: 0.9334 - loss: 0.2332 - val_accuracy: 0.5897 - val_categorical_accuracy: 0.5897 - val_loss: 5.2095\n",
            "Epoch 21/25\n",
            "\u001b[1m150/150\u001b[0m \u001b[32m━━━━━━━━━━━━━━━━━━━━\u001b[0m\u001b[37m\u001b[0m \u001b[1m506s\u001b[0m 3s/step - accuracy: 0.9182 - categorical_accuracy: 0.9182 - loss: 0.2491 - val_accuracy: 0.5994 - val_categorical_accuracy: 0.5994 - val_loss: 5.0450\n",
            "Epoch 22/25\n",
            "\u001b[1m150/150\u001b[0m \u001b[32m━━━━━━━━━━━━━━━━━━━━\u001b[0m\u001b[37m\u001b[0m \u001b[1m499s\u001b[0m 3s/step - accuracy: 0.9126 - categorical_accuracy: 0.9126 - loss: 0.2486 - val_accuracy: 0.5969 - val_categorical_accuracy: 0.5969 - val_loss: 5.1653\n",
            "Epoch 23/25\n",
            "\u001b[1m150/150\u001b[0m \u001b[32m━━━━━━━━━━━━━━━━━━━━\u001b[0m\u001b[37m\u001b[0m \u001b[1m457s\u001b[0m 3s/step - accuracy: 0.9205 - categorical_accuracy: 0.9205 - loss: 0.2349 - val_accuracy: 0.6016 - val_categorical_accuracy: 0.6016 - val_loss: 5.0920\n",
            "Epoch 24/25\n",
            "\u001b[1m150/150\u001b[0m \u001b[32m━━━━━━━━━━━━━━━━━━━━\u001b[0m\u001b[37m\u001b[0m \u001b[1m452s\u001b[0m 3s/step - accuracy: 0.9266 - categorical_accuracy: 0.9266 - loss: 0.2188 - val_accuracy: 0.5944 - val_categorical_accuracy: 0.5944 - val_loss: 5.2241\n",
            "Epoch 25/25\n",
            "\u001b[1m150/150\u001b[0m \u001b[32m━━━━━━━━━━━━━━━━━━━━\u001b[0m\u001b[37m\u001b[0m \u001b[1m497s\u001b[0m 3s/step - accuracy: 0.9192 - categorical_accuracy: 0.9192 - loss: 0.2327 - val_accuracy: 0.6034 - val_categorical_accuracy: 0.6034 - val_loss: 5.2148\n"
          ]
        }
      ],
      "source": [
        "history = model.fit(train_data,\n",
        "                    validation_data=test_data,\n",
        "                    epochs=epochs,\n",
        "                    steps_per_epoch=150,\n",
        "                    validation_steps=100)"
      ]
    },
    {
      "cell_type": "markdown",
      "id": "9646b462",
      "metadata": {
        "id": "9646b462"
      },
      "source": [
        "## Review the training process"
      ]
    },
    {
      "cell_type": "code",
      "execution_count": null,
      "id": "bc309ac3",
      "metadata": {
        "id": "bc309ac3",
        "colab": {
          "base_uri": "https://localhost:8080/",
          "height": 560
        },
        "outputId": "ce6f214a-f592-498b-882b-658a90505fa9"
      },
      "outputs": [
        {
          "output_type": "execute_result",
          "data": {
            "text/plain": [
              "<matplotlib.legend.Legend at 0x7f544462cfd0>"
            ]
          },
          "metadata": {},
          "execution_count": 13
        },
        {
          "output_type": "display_data",
          "data": {
            "text/plain": [
              "<Figure size 1000x600 with 1 Axes>"
            ],
            "image/png": "[encoded data removed]"
          },
          "metadata": {}
        }
      ],
      "source": [
        "loss = history.history['loss']\n",
        "val_loss = history.history['val_loss']\n",
        "\n",
        "epochs = range(len(loss))\n",
        "\n",
        "fig = plt.figure(figsize=(10,6))\n",
        "plt.plot(epochs,loss,c=\"red\",label=\"Training\")\n",
        "plt.plot(epochs,val_loss,c=\"blue\",label=\"Validation\")\n",
        "plt.xlabel(\"Epochs\")\n",
        "plt.ylabel(\"Loss\")\n",
        "plt.legend()"
      ]
    },
    {
      "cell_type": "code",
      "execution_count": null,
      "id": "d706088f",
      "metadata": {
        "id": "d706088f",
        "colab": {
          "base_uri": "https://localhost:8080/",
          "height": 560
        },
        "outputId": "5b86cad8-aa17-4c68-d447-14f21095db17"
      },
      "outputs": [
        {
          "output_type": "execute_result",
          "data": {
            "text/plain": [
              "<matplotlib.legend.Legend at 0x7f543eef5110>"
            ]
          },
          "metadata": {},
          "execution_count": 14
        },
        {
          "output_type": "display_data",
          "data": {
            "text/plain": [
              "<Figure size 1000x600 with 1 Axes>"
            ],
            "image/png": "[encoded data removed]"
          },
          "metadata": {}
        }
      ],
      "source": [
        "acc = history.history['categorical_accuracy']\n",
        "val_acc = history.history['val_categorical_accuracy']\n",
        "\n",
        "epochs = range(len(acc))\n",
        "\n",
        "fig = plt.figure(figsize=(10,6))\n",
        "plt.plot(epochs,acc,c=\"red\",label=\"Training\")\n",
        "plt.plot(epochs,val_acc,c=\"blue\",label=\"Validation\")\n",
        "plt.xlabel(\"Epochs\")\n",
        "plt.ylabel(\"Accuracy\")\n",
        "plt.legend()"
      ]
    },
    {
      "cell_type": "markdown",
      "id": "463cda02",
      "metadata": {
        "id": "463cda02"
      },
      "source": [
        "## Save the model\n",
        "We finally save the model in the standard TensorFlow 2 SavedModel format."
      ]
    },
    {
      "cell_type": "code",
      "execution_count": null,
      "id": "0067dc1a",
      "metadata": {
        "id": "0067dc1a"
      },
      "outputs": [],
      "source": [
        "model.save('plant_disease.keras')  # Recommended"
      ]
    },
    {
      "cell_type": "code",
      "source": [
        "from google.colab import files\n",
        "files.download('plant_disease.keras')\n"
      ],
      "metadata": {
        "colab": {
          "base_uri": "https://localhost:8080/",
          "height": 17
        },
        "id": "C8NThZgHoXqK",
        "outputId": "442604b0-057f-4ef4-c75f-15142b32a0fa"
      },
      "id": "C8NThZgHoXqK",
      "execution_count": null,
      "outputs": [
        {
          "output_type": "display_data",
          "data": {
            "text/plain": [
              "<IPython.core.display.Javascript object>"
            ],
            "application/javascript": [
              "\n",
              "    async function download(id, filename, size) {\n",
              "      if (!google.colab.kernel.accessAllowed) {\n",
              "        return;\n",
              "      }\n",
              "      const div = document.createElement('div');\n",
              "      const label = document.createElement('label');\n",
              "      label.textContent = `Downloading \"${filename}\": `;\n",
              "      div.appendChild(label);\n",
              "      const progress = document.createElement('progress');\n",
              "      progress.max = size;\n",
              "      div.appendChild(progress);\n",
              "      document.body.appendChild(div);\n",
              "\n",
              "      const buffers = [];\n",
              "      let downloaded = 0;\n",
              "\n",
              "      const channel = await google.colab.kernel.comms.open(id);\n",
              "      // Send a message to notify the kernel that we're ready.\n",
              "      channel.send({})\n",
              "\n",
              "      for await (const message of channel.messages) {\n",
              "        // Send a message to notify the kernel that we're ready.\n",
              "        channel.send({})\n",
              "        if (message.buffers) {\n",
              "          for (const buffer of message.buffers) {\n",
              "            buffers.push(buffer);\n",
              "            downloaded += buffer.byteLength;\n",
              "            progress.value = downloaded;\n",
              "          }\n",
              "        }\n",
              "      }\n",
              "      const blob = new Blob(buffers, {type: 'application/binary'});\n",
              "      const a = document.createElement('a');\n",
              "      a.href = window.URL.createObjectURL(blob);\n",
              "      a.download = filename;\n",
              "      div.appendChild(a);\n",
              "      a.click();\n",
              "      div.remove();\n",
              "    }\n",
              "  "
            ]
          },
          "metadata": {}
        },
        {
          "output_type": "display_data",
          "data": {
            "text/plain": [
              "<IPython.core.display.Javascript object>"
            ],
            "application/javascript": [
              "download(\"download_e1319b83-3336-48e4-8977-c71d2448eef0\", \"plant_disease.keras\", 13711419)"
            ]
          },
          "metadata": {}
        }
      ]
    }
  ],
  "metadata": {
    "colab": {
      "provenance": []
    },
    "kernelspec": {
      "display_name": "Python 3",
      "language": "python",
      "name": "python3"
    },
    "language_info": {
      "codemirror_mode": {
        "name": "ipython",
        "version": 3
      },
      "file_extension": ".py",
      "mimetype": "text/x-python",
      "name": "python",
      "nbconvert_exporter": "python",
      "pygments_lexer": "ipython3",
      "version": "3.7.12"
    },
    "papermill": {
      "default_parameters": {},
      "duration": 6989.456024,
      "end_time": "2023-03-31T11:16:05.516788",
      "environment_variables": {},
      "exception": null,
      "input_path": "__notebook__.ipynb",
      "output_path": "__notebook__.ipynb",
      "parameters": {},
      "start_time": "2023-03-31T09:19:36.060764",
      "version": "2.4.0"
    }
  },
  "nbformat": 4,
  "nbformat_minor": 5
}